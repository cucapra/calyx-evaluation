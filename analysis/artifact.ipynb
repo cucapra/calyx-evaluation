{
 "cells": [
  {
   "cell_type": "code",
   "execution_count": null,
   "metadata": {},
   "outputs": [],
   "source": [
    "from pathlib import Path\n",
    "import json\n",
    "import csv\n",
    "import pandas as pd\n",
    "import numpy as np"
   ]
  },
  {
   "cell_type": "code",
   "execution_count": null,
   "metadata": {},
   "outputs": [],
   "source": [
    "# global flags\n",
    "generate_graphs = False"
   ]
  },
  {
   "cell_type": "markdown",
   "metadata": {},
   "source": [
    "# Data Gathering\n",
    " - Gather json files into csv files"
   ]
  },
  {
   "cell_type": "code",
   "execution_count": null,
   "metadata": {},
   "outputs": [],
   "source": [
    "def gather_json(directory, typ):\n",
    "    with (directory / 'data.csv').open('w') as csvfile:\n",
    "        wr = csv.writer(csvfile, delimiter=',')\n",
    "        wr.writerow(['benchmark', 'type', 'key', 'value'])\n",
    "\n",
    "        for bench in directory.glob(\"*.json\"):\n",
    "            benchname = bench.stem\n",
    "            if 'linear-algebra' in str(bench):\n",
    "                benchname = bench.stem.split('-')[2]\n",
    "            try:\n",
    "                for key, value in json.load(bench.open()).items():\n",
    "                    wr.writerow([benchname, typ, key, value])\n",
    "            except json.JSONDecodeError as e:\n",
    "                print(f\"{bench} decode error: {e}\")"
   ]
  },
  {
   "cell_type": "code",
   "execution_count": null,
   "metadata": {},
   "outputs": [],
   "source": [
    "# polybench standard\n",
    "gather_json(Path(\"../results/standard/hls/\"), 'hls')\n",
    "gather_json(Path(\"../results/standard/futil/\"), 'futil')\n",
    "gather_json(Path(\"../results/standard/futil-latency/\"), 'futil')\n",
    "\n",
    "# polybench unrolled\n",
    "gather_json(Path(\"../results/unrolled/hls/\"), 'hls-unrolled')\n",
    "gather_json(Path(\"../results/unrolled/futil/\"), 'futil-unrolled')\n",
    "gather_json(Path(\"../results/unrolled/futil-latency/\"), 'futil-unrolled')\n",
    "\n",
    "# systolic\n",
    "gather_json(Path(\"../results/systolic/hls/\"), 'systolic-hls')\n",
    "gather_json(Path(\"../results/systolic/futil/\"), 'systolic-futil')\n",
    "gather_json(Path(\"../results/systolic/futil-latency/\"), 'systolic-futil')\n",
    "\n",
    "# latency sensitive\n",
    "gather_json(Path(\"../results/latency-sensitive/no-static-timing/\"), 'no-static-timing')\n",
    "gather_json(Path(\"../results/latency-sensitive/with-static-timing/\"), 'with-static-timing')"
   ]
  },
  {
   "cell_type": "markdown",
   "metadata": {},
   "source": [
    "# Pandas data processing"
   ]
  },
  {
   "cell_type": "markdown",
   "metadata": {},
   "source": [
    "## Gather Data + Cleanup\n",
    " - Throwaway keys irrelevant for the figures and do renaming"
   ]
  },
  {
   "cell_type": "code",
   "execution_count": null,
   "metadata": {},
   "outputs": [],
   "source": [
    "def cleanup(df, rename, include):\n",
    "    # rename\n",
    "    for (key_name, key), v in rename.items():\n",
    "        df.loc[df[key_name] == key, key_name] = v\n",
    "\n",
    "    # only keep things in include\n",
    "    return df[df['key'].isin(include)].reset_index(drop=True)\n",
    "\n",
    "# polybench data\n",
    "standard_hls = pd.read_csv(\"../results/standard/hls/data.csv\")\n",
    "standard_futil = pd.read_csv(\"../results/standard/futil/data.csv\")\n",
    "standard_futil_lat = pd.read_csv(\"../results/standard/futil-latency/data.csv\")\n",
    "unrolled_hls = pd.read_csv(\"../results/unrolled/hls/data.csv\")\n",
    "unrolled_futil = pd.read_csv(\"../results/unrolled/futil/data.csv\")\n",
    "unrolled_futil_lat = pd.read_csv(\"../results/unrolled/futil-latency/data.csv\")\n",
    "polybench_raw = standard_hls.append(standard_futil).append(standard_futil_lat).append(unrolled_hls).append(unrolled_futil).append(unrolled_futil_lat).reset_index(drop=True)\n",
    "polybench = cleanup(polybench_raw, {\n",
    "    ('key', 'avg_latency'): 'latency',\n",
    "}, ['dsp', 'lut', 'latency'])\n",
    "\n",
    "# systolic data\n",
    "hls = pd.read_csv(\"../results/systolic/hls/data.csv\")\n",
    "futil = pd.read_csv(\"../results/systolic/futil/data.csv\")\n",
    "futil_lat = pd.read_csv(\"../results/systolic/futil-latency/data.csv\")\n",
    "systolic_raw = hls.append(futil).append(futil_lat).reset_index(drop=True)\n",
    "systolic = cleanup(systolic_raw, {\n",
    "    ('key', 'avg_latency'): 'latency',\n",
    "    ('benchmark', 'gemm2'): '2 x 2',\n",
    "    ('benchmark', 'gemm4'): '4 x 4',\n",
    "    ('benchmark', 'gemm6'): '6 x 6',\n",
    "    ('benchmark', 'gemm8'): '8 x 8',\n",
    "}, ['dsp', 'lut', 'latency'])\n",
    "\n",
    "# latency insensitive data\n",
    "with_static_timing = pd.read_csv('../results/latency-sensitive/with-static-timing/data.csv')\n",
    "no_static_timing = pd.read_csv('../results/latency-sensitive/no-static-timing/data.csv')\n",
    "latency_sensitive_raw = with_static_timing.append(no_static_timing).reset_index(drop=True)\n",
    "latency_sensitive = cleanup(latency_sensitive_raw, {}, ['latency'])"
   ]
  },
  {
   "cell_type": "markdown",
   "metadata": {},
   "source": [
    "## Calculate norms "
   ]
  },
  {
   "cell_type": "code",
   "execution_count": null,
   "metadata": {},
   "outputs": [],
   "source": [
    "def match(df, benchmark, typ):\n",
    "    return df[(df['benchmark'] == benchmark) & (df['type'] == typ)]\n",
    "\n",
    "def norm(df, top_key, bot_key, name):\n",
    "    df = df.copy()\n",
    "    for bench in df['benchmark'].unique():\n",
    "        norm = match(df, bench, top_key).copy()\n",
    "        top = match(df, bench, top_key)['value']\n",
    "        bot = match(df, bench, bot_key)['value']\n",
    "        if len(top.values) == len(bot.values):\n",
    "            norm['value'] = top.values / bot.values\n",
    "            norm['type'] = name\n",
    "            df = df.append(norm)\n",
    "    return df\n",
    "        \n",
    "polybench = norm(polybench, 'futil', 'hls', 'norm')\n",
    "polybench = norm(polybench, 'futil-unrolled', 'hls-unrolled', 'norm-unrolled')\n",
    "latency_sensitive = norm(latency_sensitive, 'with-static-timing', 'no-static-timing', 'norm')"
   ]
  },
  {
   "cell_type": "markdown",
   "metadata": {},
   "source": [
    "## Dataframe formatting\n",
    " - Transition from long-form to short-form data by using `pivot`.\n",
    " - Reorder table so that unrolled benchmarks are grouped at the beginning"
   ]
  },
  {
   "cell_type": "code",
   "execution_count": null,
   "metadata": {},
   "outputs": [],
   "source": [
    "def pivot_and_order(df, order):\n",
    "    df = df.pivot(index=['benchmark', 'type'], columns='key', values='value').reset_index()\n",
    "    df['benchmark'] = pd.Categorical(df['benchmark'], order)\n",
    "    return df\n",
    "\n",
    "polybench_order = [\n",
    "    '2mm', '3mm', 'atax','doitgen','gemm',\n",
    "    'gemver','gesummv','gramschmidt','mvt',\n",
    "    'syr2k', 'syrk','bicg','cholesky','durbin',\n",
    "    'lu','ludcmp','symm','trisolv', 'trmm'\n",
    "]\n",
    "\n",
    "polybench = pivot_and_order(polybench, polybench_order)\n",
    "\n",
    "systolic = pivot_and_order(systolic, [\n",
    "    '2 x 2', \n",
    "    '4 x 4',\n",
    "    '6 x 6',\n",
    "    '8 x 8'\n",
    "])\n",
    "\n",
    "latency_sensitive = pivot_and_order(latency_sensitive, polybench_order)"
   ]
  },
  {
   "cell_type": "markdown",
   "metadata": {},
   "source": [
    "## Helpers"
   ]
  },
  {
   "cell_type": "code",
   "execution_count": null,
   "metadata": {},
   "outputs": [],
   "source": [
    "def apply_legend(df, name, legend):\n",
    "    df = df.copy()\n",
    "    df[name] = df[name].apply(lambda x: legend[x])\n",
    "    return df"
   ]
  },
  {
   "cell_type": "markdown",
   "metadata": {},
   "source": [
    "# Graph Generation"
   ]
  },
  {
   "cell_type": "markdown",
   "metadata": {},
   "source": [
    "## 5a. Systolic Array Normalized cycle counts"
   ]
  },
  {
   "cell_type": "code",
   "execution_count": null,
   "metadata": {},
   "outputs": [],
   "source": [
    "import seaborn as sns\n",
    "import matplotlib.pyplot as plt\n",
    "sns.set(style=\"whitegrid\")\n",
    "\n",
    "legend = {\n",
    "    'systolic-futil': 'Calyx',\n",
    "    'systolic-hls': 'HLS'\n",
    "}\n",
    "g = sns.catplot(\n",
    "    x=\"benchmark\", \n",
    "    y=\"latency\", \n",
    "    hue=\"type\", \n",
    "    data=apply_legend(systolic, 'type', legend),\n",
    "    kind=\"bar\", \n",
    "    palette=\"muted\",\n",
    "    legend=False,\n",
    ")\n",
    "g.despine(left=True)\n",
    "g.set_ylabels(\"Cycle count\", fontsize=16)\n",
    "g.set_xlabels(\"Input size\", fontsize=16)\n",
    "g.set_yticklabels(fontsize=16)\n",
    "g.set_xticklabels(fontsize=16)\n",
    "g.axes[0,0].legend(loc='upper left',).set_title('')\n",
    "g.fig.set_size_inches(10,5)\n",
    "if generate_graphs:\n",
    "    g.savefig('systolic-lat.pdf')"
   ]
  },
  {
   "cell_type": "markdown",
   "metadata": {},
   "source": [
    "## 5b. Systolic Array Normalized LUT usage"
   ]
  },
  {
   "cell_type": "code",
   "execution_count": null,
   "metadata": {},
   "outputs": [],
   "source": [
    "import seaborn as sns\n",
    "import matplotlib.pyplot as plt\n",
    "sns.set(style=\"whitegrid\")\n",
    "\n",
    "legend = {\n",
    "    'systolic-futil': 'Calyx',\n",
    "    'systolic-hls': 'HLS'\n",
    "}\n",
    "g = sns.catplot(\n",
    "    x=\"benchmark\", \n",
    "    y=\"lut\", \n",
    "    hue=\"type\", \n",
    "    data=apply_legend(systolic, 'type', legend),\n",
    "    kind=\"bar\", \n",
    "    palette=\"muted\",\n",
    "    legend=False,\n",
    ")\n",
    "g.despine(left=True)\n",
    "g.set_ylabels(\"LUT usage\", fontsize=16)\n",
    "g.set_xlabels(\"Input size\", fontsize=16)\n",
    "g.set_yticklabels(fontsize=16)\n",
    "g.set_xticklabels(fontsize=16)\n",
    "g.axes[0,0].legend(loc='upper left',).set_title('')\n",
    "g.fig.set_size_inches(10,5)\n",
    "if generate_graphs:\n",
    "    g.savefig('systolic-lut.pdf')"
   ]
  },
  {
   "cell_type": "markdown",
   "metadata": {},
   "source": [
    "## 6a. Cycle counts normalized to Vivado HLS"
   ]
  },
  {
   "cell_type": "code",
   "execution_count": null,
   "metadata": {},
   "outputs": [],
   "source": [
    "import seaborn as sns\n",
    "import matplotlib.pyplot as plt\n",
    "sns.set(style=\"whitegrid\")\n",
    "\n",
    "legend = {\n",
    "    'norm': 'Cycles',\n",
    "    'norm-unrolled': 'Cycles Unrolled'\n",
    "}\n",
    "\n",
    "df = polybench[polybench['type'].isin(['norm', 'norm-unrolled'])]\n",
    "g = sns.catplot(\n",
    "    x=\"benchmark\",\n",
    "    y=\"latency\",\n",
    "    hue=\"type\",\n",
    "    data=apply_legend(df, 'type', legend),\n",
    "    kind=\"bar\",\n",
    "    palette=\"muted\",\n",
    "    legend=False,\n",
    ")\n",
    "g.despine(left=True)\n",
    "g.set_ylabels(\"Normalized Simulation Cycles\")\n",
    "g.set_xlabels(\"\")\n",
    "g.set_xticklabels(rotation=45)\n",
    "g.axes[0,0].legend(loc='upper right').set_title('')\n",
    "g.axes[0,0].axhline(1, color=\"r\")\n",
    "g.fig.set_size_inches(10,5)\n",
    "if generate_graphs:\n",
    "    g.savefig('unrolled-lat-sen-cycles.pdf')"
   ]
  },
  {
   "cell_type": "markdown",
   "metadata": {},
   "source": [
    "## 6b. LUT usage normalized to Vivado HLS"
   ]
  },
  {
   "cell_type": "code",
   "execution_count": null,
   "metadata": {},
   "outputs": [],
   "source": [
    "import seaborn as sns\n",
    "import matplotlib.pyplot as plt\n",
    "sns.set(style=\"whitegrid\")\n",
    "\n",
    "legend = {\n",
    "    'norm': 'LUT',\n",
    "    'norm-unrolled': 'LUT Unrolled'\n",
    "}\n",
    "\n",
    "df = polybench[polybench['type'].isin(['norm', 'norm-unrolled'])]\n",
    "g = sns.catplot(\n",
    "    x=\"benchmark\",\n",
    "    y=\"lut\",\n",
    "    hue=\"type\",\n",
    "    data=apply_legend(df, 'type', legend),\n",
    "    kind=\"bar\",\n",
    "    palette=\"muted\",\n",
    "    legend=False,\n",
    ")\n",
    "g.despine(left=True)\n",
    "g.set_ylabels(\"Normalized LUT Usage\")\n",
    "g.set_xlabels(\"\")\n",
    "g.set_xticklabels(rotation=45)\n",
    "g.axes[0,0].legend(loc='upper right').set_title('')\n",
    "g.axes[0,0].axhline(1, color=\"r\")\n",
    "g.fig.set_size_inches(10,5)\n",
    "if generate_graphs:\n",
    "    g.savefig('unrolled-lat-sen-lut.pdf')"
   ]
  },
  {
   "cell_type": "markdown",
   "metadata": {},
   "source": [
    "## 6c. Cycle counts normalized to latency-insensitive design "
   ]
  },
  {
   "cell_type": "code",
   "execution_count": null,
   "metadata": {},
   "outputs": [],
   "source": [
    "import seaborn as sns\n",
    "import matplotlib.pyplot as plt\n",
    "sns.set(style=\"whitegrid\")\n",
    "\n",
    "df = latency_sensitive\n",
    "g = sns.catplot(\n",
    "    x=\"benchmark\", \n",
    "    y=\"latency\",\n",
    "    hue=\"type\",\n",
    "    data=df[df['type'] == 'norm'],\n",
    "    kind=\"bar\", \n",
    "    palette=\"muted\",\n",
    "    legend=False,\n",
    ")\n",
    "g.despine(left=True)\n",
    "g.set_ylabels(\"Normalized Cycle count\", fontsize=12)\n",
    "g.set_xlabels(\"\")\n",
    "g.set_xticklabels(rotation=-45, fontsize=12)\n",
    "g.fig.set_size_inches(10,5)\n",
    "\n",
    "g.axes[0,0].axhline(1, color='r')\n",
    "for l in g.axes[0,0].get_yticklabels(): l.set_fontsize(12) # I hate this, but otherwise the axes would be wrong\n",
    "\n",
    "if generate_graphs:\n",
    "    g.savefig('norm-lat-sen-insen.pdf', dpi=400)"
   ]
  }
 ],
 "metadata": {
  "kernelspec": {
   "display_name": "Python 3",
   "language": "python",
   "name": "python3"
  },
  "language_info": {
   "codemirror_mode": {
    "name": "ipython",
    "version": 3
   },
   "file_extension": ".py",
   "mimetype": "text/x-python",
   "name": "python",
   "nbconvert_exporter": "python",
   "pygments_lexer": "ipython3",
   "version": "3.8.6"
  }
 },
 "nbformat": 4,
 "nbformat_minor": 4
}
