{
 "cells": [
  {
   "cell_type": "code",
   "execution_count": null,
   "metadata": {},
   "outputs": [],
   "source": [
    "import altair as alt\n",
    "from pathlib import Path\n",
    "import json\n",
    "import pandas as pd\n",
    "import numpy as np\n",
    "import altair_viewer\n",
    "\n",
    "alt.renderers.enable('altair_viewer', inline=True)"
   ]
  },
  {
   "cell_type": "markdown",
   "metadata": {},
   "source": [
    "# Process Data"
   ]
  },
  {
   "cell_type": "code",
   "execution_count": null,
   "metadata": {},
   "outputs": [],
   "source": [
    "results = {\n",
    "    'no-static': ('../results/17_09_51-08_2020/data.csv', '../results/17_09_51-08_2020/sim.csv'),\n",
    "    'static': ('../results/14_15_10-08_2020/data.csv', '../results/14_15_10-08_2020/sim2.csv'),\n",
    "    'unrolled': ('../results/14_17_26-08_2020/data.csv', '../results/14_17_26-08_2020/sim.csv')\n",
    "}\n",
    "data_lib = {}\n",
    "\n",
    "for k, v in results.items():\n",
    "    futil_hls_data = pd.read_csv(v[0])\n",
    "    futil_latency = pd.read_csv(v[1])\n",
    "    futil_hls_data = futil_hls_data[futil_hls_data['type'] != 'hls_total']\n",
    "    for _, row in futil_latency.iterrows():\n",
    "        bench_filt = futil_hls_data['benchmark'] == row[0]\n",
    "        type_filt = futil_hls_data['type'] == 'futil'\n",
    "        futil_hls_data.loc[(bench_filt) & (type_filt), 'latency'] = row[1]\n",
    "    futil_hls_data = futil_hls_data.sort_values(by='benchmark').reset_index(drop=True)\n",
    "    futil_hls_data['benchmark'] = futil_hls_data['benchmark'].apply(lambda x: x.split('-')[-1])\n",
    "    data_lib[k] = futil_hls_data\n"
   ]
  },
  {
   "cell_type": "markdown",
   "metadata": {},
   "source": [
    "# Timed Futil vs VHLS Graph"
   ]
  },
  {
   "cell_type": "code",
   "execution_count": null,
   "metadata": {},
   "outputs": [],
   "source": [
    "# Generate merged and normalized data for types of benchmarks\n",
    "import math\n",
    "merged = {}\n",
    "KEYS = ['lut', 'latency']\n",
    "\n",
    "for key in data_lib.keys():\n",
    "    df = data_lib[key]\n",
    "    hls = df[df['type'] == 'hls'][['benchmark'] + KEYS]\n",
    "    futil = df[df['type'] == 'futil'][['benchmark'] + KEYS]\n",
    "    # Merge the HLS and FuTIL data\n",
    "    combined = hls.merge(futil, on='benchmark', suffixes = ['-hls', '-futil'])\n",
    "    # Calculate normalized keys for KEYS\n",
    "    for norm_key in KEYS:\n",
    "        combined[f'{norm_key}-norm'] = np.log(combined[f'{norm_key}-futil'] / combined[f'{norm_key}-hls'])\n",
    "    merged[key] = combined"
   ]
  },
  {
   "cell_type": "code",
   "execution_count": null,
   "metadata": {},
   "outputs": [],
   "source": [
    "df1 = merged['static']\n",
    "df2 = merged['no-static']\n",
    "df3 = merged['unrolled']\n",
    "df1['type'] = 'Latency Sensitive'\n",
    "df2['type'] = 'Latency Insensitive'\n",
    "df3['type'] = 'Unrolled (Latency Sensitive)'\n",
    "comp_data = df1.merge(df2, how='outer').merge(df3, how='outer')"
   ]
  },
  {
   "cell_type": "code",
   "execution_count": null,
   "metadata": {},
   "outputs": [],
   "source": [
    "import seaborn as sns\n",
    "import matplotlib.pyplot as plt\n",
    "sns.set(style=\"whitegrid\")\n",
    "\n",
    "g = sns.catplot(\n",
    "    x=\"benchmark\", \n",
    "    y=\"latency-norm\", \n",
    "    hue=\"type\", \n",
    "    data=comp_data,\n",
    "    kind=\"bar\", \n",
    "    palette=\"muted\",\n",
    "    legend=False,\n",
    ")\n",
    "g.despine(left=True)\n",
    "g.set_ylabels(\"Log Normalized Simulation Cycles\")\n",
    "g.set_xlabels(\"\")\n",
    "g.set_xticklabels(rotation=45)\n",
    "g.axes[0,0].legend(loc='upper right').set_title('')\n",
    "g.fig.set_size_inches(10,5)\n",
    "g.savefig('log-norm-lat.pdf')"
   ]
  },
  {
   "cell_type": "code",
   "execution_count": null,
   "metadata": {},
   "outputs": [],
   "source": [
    "import seaborn as sns\n",
    "import matplotlib.pyplot as plt\n",
    "sns.set(style=\"whitegrid\")\n",
    "\n",
    "\n",
    "g = sns.catplot(\n",
    "    x=\"benchmark\", \n",
    "    y=\"lut-norm\", \n",
    "    hue=\"type\", \n",
    "    data=comp_data,\n",
    "    kind=\"bar\", \n",
    "    palette=\"muted\",\n",
    "    legend=False,\n",
    ")\n",
    "g.despine(left=True)\n",
    "g.set_ylabels(\"Log Normalized LUTs usage\")\n",
    "g.set_xlabels(\"\")\n",
    "g.set_xticklabels(rotation=45)\n",
    "g.axes[0,0].legend(loc='upper right').set_title('')\n",
    "g.fig.set_size_inches(10,5)\n",
    "g.savefig('log-norm-lut.pdf')"
   ]
  },
  {
   "cell_type": "code",
   "execution_count": null,
   "metadata": {},
   "outputs": [],
   "source": [
    "\n",
    "\n",
    "bars = alt.Chart().mark_bar().encode(\n",
    "    x=alt.X('type', axis=alt.Axis(labels=False, title=None, ticks=False)),\n",
    "    y=alt.Y('value',\n",
    "            scale=alt.Scale(type='log'),\n",
    "            axis=alt.Axis(title=\"VHLS / Calyx\")),\n",
    "    tooltip=['value', 'latency_mean', 'lut_mean'],\n",
    "    color=alt.condition('datum.meet_timing == 0', alt.ColorValue('red'), 'type'),\n",
    ")\n",
    "\n",
    "vline = alt.Chart().mark_rule(color='black', size=0).encode(y='equal')\n",
    "# meanLutLine = alt.Chart().mark_rule(color='blue').encode(y='lut_mean')\n",
    "# meanLatLine = alt.Chart().mark_rule(color='green').encode(y='latency_mean')\n",
    "height=300\n",
    "alt.layer(bars, vline, data=data).facet(\n",
    "    column=alt.Column('benchmark', header=alt.Header(labelOrient='bottom')),\n",
    "    spacing=1,\n",
    ").configure_title(\n",
    "    orient='bottom'\n",
    ").configure_view(\n",
    "    continuousHeight=height\n",
    ").configure_bar(\n",
    "    y2=height/2\n",
    ")\n",
    "\n",
    "data"
   ]
  },
  {
   "cell_type": "markdown",
   "metadata": {},
   "source": [
    "# Futil\n",
    "Static vs No-static"
   ]
  },
  {
   "cell_type": "code",
   "execution_count": null,
   "metadata": {},
   "outputs": [],
   "source": [
    "static = data_lib['static']\n",
    "no_static = data_lib['no-static']\n",
    "# df = pd.concat([static, no_static], keys=['static', 'no-static']).reset_index().drop(['level_1'], axis='columns').rename({'level_0': 'timing'}, axis='columns')\n",
    "df = static[static['type'] == 'futil']\n",
    "base = df.drop(columns=['source', 'meet_timing', 'dsp', 'type']).sort_values(by='benchmark').reset_index(drop=True)\n",
    "other = no_static[no_static['type'] == 'futil'].sort_values(by='benchmark').reset_index(drop=True)\n",
    "base['lut'] /= other['lut']\n",
    "base['latency'] /= other['latency']\n",
    "# base['dsp'] /= other['dsp']\n",
    "data = base.melt(['benchmark'])\n",
    "height=300\n",
    "bars = alt.Chart().mark_bar().encode(\n",
    "    x=alt.X('variable', axis=alt.Axis(labels=False, title=None, ticks=False)),\n",
    "    y=alt.Y('value',\n",
    "            scale=alt.Scale(type='log', base=2, domain=(2 ** -0.5, 2 ** 0.5)),\n",
    "            axis=alt.Axis(title=\"Latency Sensitive / Latency Insensitive\")),\n",
    "    color=alt.Color('variable', scale=alt.Scale(scheme='tableau10'))\n",
    ")\n",
    "\n",
    "alt.layer(bars, data=data).facet(\n",
    "    column=alt.Column(\n",
    "        'benchmark',\n",
    "        header=alt.Header(labelOrient='bottom', labelAngle=0, labelAnchor='middle', labelPadding=20),\n",
    "    ),\n",
    "    spacing=1\n",
    ").configure_view(\n",
    "    continuousHeight=height,\n",
    "    strokeWidth=1,\n",
    "    fill='white',\n",
    ").configure_bar(\n",
    "    y2=height/2\n",
    ")\n"
   ]
  },
  {
   "cell_type": "markdown",
   "metadata": {},
   "source": []
  },
  {
   "cell_type": "code",
   "execution_count": null,
   "metadata": {},
   "outputs": [],
   "source": [
    "systolic_data = pd.read_csv('../systolic-experiments/scan/data.csv')\n",
    "systolic_lat = pd.read_csv('../systolic-experiments/scan/systolic.csv')\n",
    "hls = pd.read_csv('../results/17_21_55-08_2020/data.csv')\n",
    "hls = hls[hls['type'] == 'hls'].sort_values(by='benchmark').reset_index(drop=True)\n",
    "systolic_data = systolic_data[systolic_data['type'] == 'futil'].sort_values(by='benchmark').drop(columns=['meet_timing', 'source', 'type']).reset_index(drop=True)\n",
    "systolic_data = systolic_data.drop([0, 4, 6]).reset_index(drop=True)\n",
    "systolic_data['latency'] = systolic_lat['latency']\n",
    "systolic_data['latency_hls'] = hls['latency']\n",
    "# systolic_data['hls_dsp'] = hls['dsp']\n",
    "# systolic_data['hls_lut'] = hls['lut']\n",
    "systolic_data['lut / 10'] = systolic_data['lut'] / 10\n",
    "systolic_data['benchmark'] = systolic_data['benchmark'].apply(lambda x: \"{} x {}\".format(x.split('_')[1], x.split('_')[1]))\n",
    "# systolic_data['lat_expect'] = [26 * (x + (np.sqrt(x))) for x in range(1,9)]\n",
    "d = systolic_data.melt(['benchmark'])\n",
    "alt.Chart(d).mark_bar().encode(\n",
    "    x=alt.X('variable', axis=alt.Axis(labels=False, ticks=False,title=None)),\n",
    "    y='value',\n",
    "    color='variable',\n",
    "    column=alt.Column(\n",
    "        'benchmark', \n",
    "        header=alt.Header(labelOrient='bottom', labelAngle=0, labelAnchor='middle', labelPadding=20),\n",
    "        spacing=1\n",
    "    ),\n",
    "    tooltip=['value']\n",
    ").transform_filter(\n",
    "    'datum.variable != \"lut\"'\n",
    ").configure_view(\n",
    "    continuousHeight=200\n",
    ")"
   ]
  },
  {
   "cell_type": "code",
   "execution_count": null,
   "metadata": {},
   "outputs": [],
   "source": [
    "systolic_data['dsp_diff'] / list(range(1, 9))"
   ]
  },
  {
   "cell_type": "code",
   "execution_count": null,
   "metadata": {},
   "outputs": [],
   "source": [
    "data_lib['unrolled'].drop(columns=['meet_timing', 'source']).melt(['benchmark'], var_name='type', value_name='value')"
   ]
  },
  {
   "cell_type": "code",
   "execution_count": null,
   "metadata": {},
   "outputs": [],
   "source": []
  }
 ],
 "metadata": {
  "kernelspec": {
   "display_name": "Python 3",
   "language": "python",
   "name": "python3"
  },
  "language_info": {
   "codemirror_mode": {
    "name": "ipython",
    "version": 3
   },
   "file_extension": ".py",
   "mimetype": "text/x-python",
   "name": "python",
   "nbconvert_exporter": "python",
   "pygments_lexer": "ipython3",
   "version": "3.7.3"
  }
 },
 "nbformat": 4,
 "nbformat_minor": 4
}
