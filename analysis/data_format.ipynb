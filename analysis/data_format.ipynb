{
 "cells": [
  {
   "cell_type": "code",
   "execution_count": 20,
   "metadata": {},
   "outputs": [],
   "source": [
    "import json\n",
    "from pathlib import Path\n",
    "import csv"
   ]
  },
  {
   "cell_type": "code",
   "execution_count": 23,
   "metadata": {},
   "outputs": [],
   "source": [
    "def gather_json(directory, typ):\n",
    "    with (directory / 'data.csv').open('w') as csvfile:\n",
    "        wr = csv.writer(csvfile, delimiter=',')\n",
    "        wr.writerow(['benchmark', 'type', 'key', 'value'])\n",
    "\n",
    "        for bench in directory.glob(\"*.json\"):\n",
    "            benchname = bench.stem.split('-')[2]\n",
    "            for key, value in json.load(bench.open()).items():\n",
    "                wr.writerow([benchname, typ, key, value])"
   ]
  },
  {
   "cell_type": "code",
   "execution_count": 13,
   "metadata": {},
   "outputs": [],
   "source": [
    "standard_polybench_hls = \n",
    "standard_polybench_vivado = \n",
    "unrolled_polybench = Path(\"../results/unrolled/\")\n",
    "systolic = Path(\"../results/systolic/\")"
   ]
  },
  {
   "cell_type": "code",
   "execution_count": 28,
   "metadata": {},
   "outputs": [],
   "source": [
    "gather_json(Path(\"../results/standard/hls/\"), 'hls')\n",
    "# gather_json(Path(\"../results/standard/vivado/\"), 'futil')\n",
    "# gather_json(Path(\"../results/unrolled/hls/\"), 'hls')\n",
    "# gather_json(Path(\"../results/unrolled/vivado/\"), 'futil')\n",
    "# gather_json(Path(\"../results/systolic/hls/\"), 'hls')\n",
    "# gather_json(Path(\"../results/systolic/vivado/\"), 'futil')"
   ]
  },
  {
   "cell_type": "code",
   "execution_count": null,
   "metadata": {},
   "outputs": [],
   "source": []
  }
 ],
 "metadata": {
  "kernelspec": {
   "display_name": "Python 3",
   "language": "python",
   "name": "python3"
  },
  "language_info": {
   "codemirror_mode": {
    "name": "ipython",
    "version": 3
   },
   "file_extension": ".py",
   "mimetype": "text/x-python",
   "name": "python",
   "nbconvert_exporter": "python",
   "pygments_lexer": "ipython3",
   "version": "3.8.6"
  }
 },
 "nbformat": 4,
 "nbformat_minor": 4
}
