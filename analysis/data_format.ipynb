{
 "cells": [
  {
   "cell_type": "code",
   "execution_count": 1,
   "metadata": {},
   "outputs": [],
   "source": [
    "import json\n",
    "from pathlib import Path\n",
    "import csv"
   ]
  },
  {
   "cell_type": "code",
   "execution_count": 14,
   "metadata": {},
   "outputs": [],
   "source": [
    "def gather_json(directory, typ):\n",
    "    with (directory / 'data.csv').open('w') as csvfile:\n",
    "        wr = csv.writer(csvfile, delimiter=',')\n",
    "        wr.writerow(['benchmark', 'type', 'key', 'value'])\n",
    "\n",
    "        for bench in directory.glob(\"*.json\"):\n",
    "            benchname = bench.stem\n",
    "            if 'linear-algebra' in str(bench):\n",
    "                benchname = bench.stem.split('-')[2]\n",
    "            try:\n",
    "                for key, value in json.load(bench.open()).items():\n",
    "                    wr.writerow([benchname, typ, key, value])\n",
    "            except json.JSONDecodeError as e:\n",
    "                print(f\"{bench} decode error: {e}\")"
   ]
  },
  {
   "cell_type": "code",
   "execution_count": 19,
   "metadata": {},
   "outputs": [],
   "source": [
    "# polybench standard\n",
    "gather_json(Path(\"../results/standard/hls/\"), 'hls')\n",
    "gather_json(Path(\"../results/standard/futil/\"), 'futil')\n",
    "gather_json(Path(\"../results/standard/futil-latency/\"), 'futil')\n",
    "\n",
    "# polybench unrolled\n",
    "gather_json(Path(\"../results/unrolled/hls/\"), 'hls-unrolled')\n",
    "gather_json(Path(\"../results/unrolled/futil/\"), 'futil-unrolled')\n",
    "gather_json(Path(\"../results/unrolled/futil-latency/\"), 'futil-unrolled')\n",
    "\n",
    "# systolic\n",
    "gather_json(Path(\"../results/systolic/hls/\"), 'systolic-hls')\n",
    "gather_json(Path(\"../results/systolic/futil/\"), 'systolic-futil')\n",
    "gather_json(Path(\"../results/systolic/futil-latency/\"), 'systolic-futil')\n",
    "\n",
    "# latency sensitive\n",
    "gather_json(Path(\"../results/latency-sensitive/no-static-timing/\"), 'no-static-timing')\n",
    "gather_json(Path(\"../results/latency-sensitive/with-static-timing/\"), 'with-static-timing')"
   ]
  }
 ],
 "metadata": {
  "kernelspec": {
   "display_name": "Python 3",
   "language": "python",
   "name": "python3"
  },
  "language_info": {
   "codemirror_mode": {
    "name": "ipython",
    "version": 3
   },
   "file_extension": ".py",
   "mimetype": "text/x-python",
   "name": "python",
   "nbconvert_exporter": "python",
   "pygments_lexer": "ipython3",
   "version": "3.8.6"
  }
 },
 "nbformat": 4,
 "nbformat_minor": 4
}
